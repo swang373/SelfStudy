{
 "cells": [
  {
   "cell_type": "markdown",
   "metadata": {},
   "source": [
    "## 2. Structural Patterns"
   ]
  },
  {
   "cell_type": "markdown",
   "metadata": {},
   "source": [
    "### Decorator\n",
    "---\n",
    "\n",
    "This pattern adds new features to existing objects dynamically without subclassing. The Python language have decorators as a built-in feature. Related patterns are the adapter, composite, and strategy patterns."
   ]
  },
  {
   "cell_type": "code",
   "execution_count": 1,
   "metadata": {},
   "outputs": [
    {
     "name": "stdout",
     "output_type": "stream",
     "text": [
      "<blink>Hello, World!</blink>\n",
      "hello_world\n",
      "Original function.\n"
     ]
    }
   ],
   "source": [
    "from functools import wraps\n",
    "\n",
    "\n",
    "def make_blink(function):\n",
    "    \"\"\"Defines the decorator.\"\"\"\n",
    "    # This makes the decorator transparent in terms of its name and docstring\n",
    "    @wraps(function)\n",
    "    # Define the inner function\n",
    "    def decorator():\n",
    "        # Grab the return value of the function being decorated\n",
    "        ret = function()\n",
    "        # Add new functionality to the function being decorated\n",
    "        return f'<blink>{ret}</blink>'\n",
    "\n",
    "    return decorator\n",
    "\n",
    "\n",
    "# Apply the decorator to a function\n",
    "@make_blink\n",
    "def hello_world():\n",
    "    \"\"\"Original function.\"\"\"\n",
    "    return 'Hello, World!'\n",
    "\n",
    "\n",
    "# Check the result of decorating\n",
    "print(hello_world())\n",
    "\n",
    "# Check if the function name is still the same as that of the function being decorated\n",
    "print(hello_world.__name__)\n",
    "\n",
    "# Check if the docstring is still the same as that of the function being decorated\n",
    "print(hello_world.__doc__)"
   ]
  },
  {
   "cell_type": "markdown",
   "metadata": {},
   "source": [
    "### Proxy\n",
    "---\n",
    "\n",
    "This pattern is used when creating objects that are very resource intensive by postponing their creation until absolutely necessary. A placeholder is used which will create the object when needed. In the solution, clients interact with a proxy object most of the time until the resource intensive object becomes available. The proxy object is thus responsible for the creation of the resource intensive objects. Related patterns are the adapter and decorator patterns."
   ]
  },
  {
   "cell_type": "code",
   "execution_count": 2,
   "metadata": {},
   "outputs": [
    {
     "name": "stdout",
     "output_type": "stream",
     "text": [
      "Artist checking if producer is available...\n",
      "Producer has time to meet you now!\n",
      "Artist checking if producer is available...\n",
      "Producer is busy!\n"
     ]
    }
   ],
   "source": [
    "import time\n",
    "\n",
    "\n",
    "class Producer(object):\n",
    "    \"\"\"Define the resource intensive object.\"\"\"\n",
    "    def produce(self):\n",
    "        print('Producer is working hard!')\n",
    "\n",
    "    def meet(self):\n",
    "        print('Producer has time to meet you now!')\n",
    "\n",
    "\n",
    "class Proxy(object):\n",
    "    \"\"\"Define the relatively less resource intensive proxy object.\"\"\"\n",
    "    def __init__(self):\n",
    "        self.occupied = 'No'\n",
    "        self.producer = None\n",
    "\n",
    "    def produce(self):\n",
    "        \"\"\"Check if producer is available.\"\"\"\n",
    "        print('Artist checking if producer is available...')\n",
    "        \n",
    "        if self.occupied == 'No':\n",
    "            # If the producer is available, create a producer object\n",
    "            self.producer = Producer()\n",
    "            time.sleep(2)\n",
    "            # Have the producer meet the guest\n",
    "            self.producer.meet()\n",
    "        else:\n",
    "            # Otherwise, don't create a producer\n",
    "            time.sleep(2)\n",
    "            print('Producer is busy!')\n",
    "\n",
    "\n",
    "# Instantiate a Proxy\n",
    "p = Proxy()\n",
    "\n",
    "# Have the proxy object produce until Producer is available\n",
    "p.produce()\n",
    "\n",
    "# Change the state to occupied\n",
    "p.occupied = 'Yes'\n",
    "\n",
    "# Make the Producer produce\n",
    "p.produce()"
   ]
  },
  {
   "cell_type": "markdown",
   "metadata": {},
   "source": [
    "### Adapter\n",
    "---\n",
    "\n",
    "The adapter pattern converts the interface of a class into one expected by the client. For example, consider the incompatible interface between a client that would like a uniform interface (`speak()`) and a server that has objects that emit Korean (`speak_korean()`) and objetcs that emit English (`speak_english()`). The solution is to use an adapter pattern that translates the method names between the client and server. Related patterns are bridges and decorators."
   ]
  },
  {
   "cell_type": "code",
   "execution_count": 3,
   "metadata": {},
   "outputs": [
    {
     "name": "stdout",
     "output_type": "stream",
     "text": [
      "Korean says \"An-neyong!\"\n",
      "British says \"Hello!\"\n"
     ]
    }
   ],
   "source": [
    "class Korean(object):\n",
    "    \"\"\"Korean speaker.\"\"\"\n",
    "    def __init__(self):\n",
    "        self.name = 'Korean'\n",
    "\n",
    "    def speak_korean(self):\n",
    "        return 'An-neyong!'\n",
    "\n",
    "\n",
    "class British(object):\n",
    "    \"\"\"English speaker.\"\"\"\n",
    "    def __init__(self):\n",
    "        self.name = 'British'\n",
    "\n",
    "    # Note the different method name here!\n",
    "    def speak_english(self):\n",
    "        return 'Hello!'\n",
    "\n",
    "\n",
    "class Adapter(object):\n",
    "    \"\"\"This changes the generic method name to individualized method names.\"\"\"\n",
    "    def __init__(self, object, **adapted_method):\n",
    "        \"\"\"Change the name of the method.\"\"\"\n",
    "        self._object = object\n",
    "\n",
    "        # Add a new dictionary item that establishes the mapping between\n",
    "        # the generic method name speak() and the concrete method\n",
    "        # for example, speak() could be mapped to speak_korean()\n",
    "        self.__dict__.update(adapted_method)\n",
    "\n",
    "    def __getattr__(self, attr):\n",
    "        \"\"\"Simply return the rest of the attributes.\"\"\"\n",
    "        return getattr(self._object, attr)\n",
    "\n",
    "\n",
    "# List of speaker objects\n",
    "objects = []\n",
    "\n",
    "# Create a Korean object\n",
    "korean = Korean()\n",
    "\n",
    "# Create a British object\n",
    "british = British()\n",
    "\n",
    "# Append the objects to the list of speaker objects while adapting\n",
    "# the generic method name to the individualized method names\n",
    "objects.append(Adapter(korean, speak=korean.speak_korean))\n",
    "objects.append(Adapter(british, speak=british.speak_english))\n",
    "\n",
    "# Check that the adapter works\n",
    "for obj in objects:\n",
    "    print(f'{obj.name} says \"{obj.speak()}\"')"
   ]
  },
  {
   "cell_type": "markdown",
   "metadata": {},
   "source": [
    "### Composite\n",
    "---\n",
    "\n",
    "The composite pattern maintains a tree data structure to represent part-whole relationships. This problem is encountered when building recursive tree data structures where elements of the tree can have their own sub-elements. An example of this is menus with multiple depths of submenus. The solution consists of three elements:\n",
    "\n",
    "- Component  \n",
    "  An abstract class.\n",
    "- Child  \n",
    "  A concrete class inheriting from the component class.\n",
    "- Composite  \n",
    "  Another concrete class that also inherits from the component class that maintains child objects by adding and removing them from a tree data structure.\n",
    "  \n",
    "Related patterns are the decorator, iterator, and visitor patterns."
   ]
  },
  {
   "cell_type": "code",
   "execution_count": 4,
   "metadata": {},
   "outputs": [
    {
     "name": "stdout",
     "output_type": "stream",
     "text": [
      "top_menu\n",
      "submenu_1\n",
      "subsubmenu_11\n",
      "subsubmenu_12\n",
      "submenu_2\n"
     ]
    }
   ],
   "source": [
    "class Component(object):\n",
    "    \"\"\"Abstract class.\"\"\"\n",
    "    def __init__(self, *args, **kwargs):\n",
    "        pass\n",
    "\n",
    "    def component_function(self):\n",
    "        pass\n",
    "\n",
    "\n",
    "class Child(Component):\n",
    "    \"\"\"Concrete class.\"\"\"\n",
    "    def __init__(self, *args, **kwargs):\n",
    "        super().__init__(*args, **kwargs)\n",
    "\n",
    "        # This is where the name of the child item is stored!\n",
    "        self.name = args[0]\n",
    "\n",
    "    def component_function(self):\n",
    "        # Print the name of the child item here!\n",
    "        print(f'{self.name}')\n",
    "\n",
    "\n",
    "class Composite(Component):\n",
    "    \"\"\"Concrete class that maintains the recursive tree structure.\"\"\"\n",
    "    def __init__(self, *args, **kwargs):\n",
    "        super().__init__(*args, **kwargs)\n",
    "\n",
    "        # This is where the name of the composite object is stored!\n",
    "        self.name = args[0]\n",
    "\n",
    "        # This is where the child items are stored!\n",
    "        self.children = []\n",
    "\n",
    "    def append_child(self, child):\n",
    "        \"\"\"Method to add a new child item.\"\"\"\n",
    "        self.children.append(child)\n",
    "\n",
    "    def remove_child(self, child):\n",
    "        \"\"\"Method to remove a child item.\"\"\"\n",
    "        self.children.remove(child)\n",
    "\n",
    "    def component_function(self):\n",
    "        # Print the name of the composite object\n",
    "        print(f'{self.name}')\n",
    "\n",
    "        # Print the names of the child items\n",
    "        for child in self.children:\n",
    "              child.component_function()\n",
    "\n",
    "\n",
    "# Let's start building a tree of menus, starting with a submenu\n",
    "sub1 = Composite('submenu_1')\n",
    "\n",
    "# Create a new child sub-submenus\n",
    "sub11 = Child('subsubmenu_11')\n",
    "sub12 = Child('subsubmenu_12')\n",
    "\n",
    "# Add the sub-submenus to the submenu\n",
    "sub1.append_child(sub11)\n",
    "sub1.append_child(sub12)\n",
    "\n",
    "# Let's also build a submenu that is not a composite\n",
    "sub2 = Child('submenu_2')\n",
    "\n",
    "# Now build a top-level composite menu\n",
    "top = Composite('top_menu')\n",
    "\n",
    "# Add the composite submenu 1 and plain submenu 2\n",
    "# to the list of children for the top-level menu\n",
    "top.append_child(sub1)\n",
    "top.append_child(sub2)\n",
    "\n",
    "# Check that the composite pattern works\n",
    "top.component_function()"
   ]
  },
  {
   "cell_type": "markdown",
   "metadata": {},
   "source": [
    "### Bridge\n",
    "---\n",
    "\n",
    "The bridge patterns helps with untangling unnecessarily complicated class hierarchies that manifest as unrelated parallel or orthogonal abstractions, some of which are implementation-specific and while others are implementation-independent. For example, consider an abstraction for a geometric shape where the drawing of the shape is implementation-specific while the definition of its properties and scaling are implementation-independent. The solution does not try to abstract both implementation-specific and implementation-independent classes in a single class hierarchy, but to separate the abstractions into distinct class hierarchies. Related patterns are the abstract factory and adapter patterns."
   ]
  },
  {
   "cell_type": "code",
   "execution_count": 5,
   "metadata": {},
   "outputs": [
    {
     "name": "stdout",
     "output_type": "stream",
     "text": [
      "API 1 drawing a circle at (1, 2) with radius 3!\n",
      "API 2 drawing a circle at (2, 3) with radius 4!\n"
     ]
    }
   ],
   "source": [
    "class DrawingAPIOne(object):\n",
    "    \"\"\"Implementation-specific abstraction: concrete class one.\"\"\"\n",
    "    def draw_circle(self, x, y, radius):\n",
    "        print(f'API 1 drawing a circle at ({x}, {y}) with radius {radius}!')\n",
    "\n",
    "\n",
    "class DrawingAPITwo(object):\n",
    "    \"\"\"Implementation-specific abstraction: concrete class two.\"\"\"\n",
    "    def draw_circle(self, x, y, radius):\n",
    "        print(f'API 2 drawing a circle at ({x}, {y}) with radius {radius}!')\n",
    "\n",
    "\n",
    "class Circle(object):\n",
    "    \"\"\"Implementation-independent abstraction: for example, there could be a rectangle class!\"\"\"\n",
    "    def __init__(self, x, y, radius, drawing_api):\n",
    "        # Initialize the necessary attributes\n",
    "        self._x = x\n",
    "        self._y = y\n",
    "        self._radius = radius\n",
    "        self._drawing_api = drawing_api\n",
    "\n",
    "    def draw(self):\n",
    "        \"\"\"Implementation-specific abstraction taken care of by another class: DrawingAPI.\"\"\"\n",
    "        self._drawing_api.draw_circle(self._x, self._y, self._radius)\n",
    "\n",
    "    def scale(self, percent):\n",
    "        \"\"\"Implementation-independent.\"\"\"\n",
    "        self._radius *= percent\n",
    "\n",
    "\n",
    "# Build the first Circle object using API One\n",
    "circle1 = Circle(1, 2, 3, DrawingAPIOne())\n",
    "\n",
    "# Draw a circle\n",
    "circle1.draw()\n",
    "\n",
    "# Build the second Circle object using API Two\n",
    "circle2 = Circle(2, 3, 4, DrawingAPITwo())\n",
    "\n",
    "# Draw a circle\n",
    "circle2.draw()"
   ]
  }
 ],
 "metadata": {
  "kernelspec": {
   "display_name": "Python 3",
   "language": "python",
   "name": "python3"
  },
  "language_info": {
   "codemirror_mode": {
    "name": "ipython",
    "version": 3
   },
   "file_extension": ".py",
   "mimetype": "text/x-python",
   "name": "python",
   "nbconvert_exporter": "python",
   "pygments_lexer": "ipython3",
   "version": "3.6.7"
  }
 },
 "nbformat": 4,
 "nbformat_minor": 2
}
