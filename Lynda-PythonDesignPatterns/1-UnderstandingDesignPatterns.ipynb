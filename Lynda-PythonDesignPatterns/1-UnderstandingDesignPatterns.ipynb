{
 "cells": [
  {
   "cell_type": "markdown",
   "metadata": {},
   "source": [
    "## 1. Understanding Design Patterns"
   ]
  },
  {
   "cell_type": "markdown",
   "metadata": {},
   "source": [
    "### What is a design pattern?\n",
    "---\n",
    "\n",
    "Design patterns are well-known solutions to recurring problems that are widely accepted by the software development community. This concept of design patterns was originally created by Christopher Alexander for the field of architecture.\n",
    "\n",
    "#### Why use design patterns?\n",
    "\n",
    "Systematic reuse of design ideas or best practices yields lower cost and higher quality.\n",
    "\n",
    "#### What important characteristics do design patterns have?\n",
    "\n",
    "- Language neutral\n",
    "- Dynamic, revisions to current design patterns or new design patterns can arise\n",
    "- Incomplete to promote customization"
   ]
  },
  {
   "cell_type": "markdown",
   "metadata": {},
   "source": [
    "### Types of design patterns\n",
    "---\n",
    "\n",
    "There are three main types of design patterns:\n",
    "\n",
    "- Creational  \n",
    "  This design pattern is used to create objects in a systematic way and its main benefit is its flexibility. For example, different subtypes of objects from the same class can be created at runtime. This can be implemented using polymorphism.\n",
    "- Structural  \n",
    "  This design pattern is used to establish relationships between software components in certain configurations. The goal of accomplishing certain functional or non-functional requirements leads to different structures. This can be implemented using inheritance.\n",
    "- Behavioral  \n",
    "  This design pattern is used to apply best practices to interactions between objects. The focus is the definition of the protocols between the objects. This can be implemented through the objects' methods and calling signatures."
   ]
  },
  {
   "cell_type": "markdown",
   "metadata": {},
   "source": [
    "### What is Object-Oriented Programming (OOP)?\n",
    "---\n",
    "\n",
    "Objects represent entities in both the problem and solution domains that manifest in your software. Classes are templates used to create objects to avoid recreating them each time. Classes define objects in terms of attributes, which represent the properties of an entity and capture its state, and methods, which represent the behaviors of an entity."
   ]
  },
  {
   "cell_type": "markdown",
   "metadata": {},
   "source": [
    "### Inheritance and Polymorphism\n",
    "---\n",
    "\n",
    "Inheritance establishes a parent-child relationship between two classes. The child class can keep all of the attributes and methods of its parent, add new attributes or methods of its own, and override the existing methods of its parent.\n",
    "\n",
    "Polymorphism relies on inheritance and allows child classes to be instantiated and treated as the same type as its parent, essentially enabling a parent class to manifest as any of its child classes."
   ]
  },
  {
   "cell_type": "markdown",
   "metadata": {},
   "source": [
    "### Understanding Pattern context\n",
    "---\n",
    "\n",
    "A design pattern's context consists of the following:\n",
    "\n",
    "- Participants  \n",
    "  The classes involved to form a design pattern and their roles.\n",
    "- Quality Attributes  \n",
    "  Any non-functional requirements such as usability, modifiability, reliability, performance, etc. which impact the entire software and are typically addressed by architectural solutions.\n",
    "- Forces  \n",
    "  The various factors or trade-offs considered when adopting a particular design pattern. These forces typically manifest as quality attributes. If these aren't considered beforehand, unintended consequences may be encountered during implementation.\n",
    "- Consequences  \n",
    "  Side effects of the design pattern, such as better security but worse performance. The responsibility for these consequences rests on the decision to use a particular design pattern."
   ]
  },
  {
   "cell_type": "markdown",
   "metadata": {},
   "source": [
    "### Working with Pattern language\n",
    "---\n",
    "\n",
    "A pattern language consists of:\n",
    "\n",
    "- Name  \n",
    "  Captures the gist of the pattern and becomes a part of the vocabulary during the design process. It needs to be meaningful and memorable.\n",
    "- Context  \n",
    "  The scenarios in which patterns may be used which provide insight into when a pattern should or should not be used.\n",
    "- Problem  \n",
    "  The design challenge the pattern is trying to address.\n",
    "- Solution  \n",
    "  Specifies the pattern in terms of its structures, the relationships among its elements, and its behaviors, the interactions between its elements.\n",
    "- Related Patterns  \n",
    "  Other patterns used together with the pattern in question or patterns which are similar but have important subtle differences."
   ]
  }
 ],
 "metadata": {
  "kernelspec": {
   "display_name": "Python 3",
   "language": "python",
   "name": "python3"
  },
  "language_info": {
   "codemirror_mode": {
    "name": "ipython",
    "version": 3
   },
   "file_extension": ".py",
   "mimetype": "text/x-python",
   "name": "python",
   "nbconvert_exporter": "python",
   "pygments_lexer": "ipython3",
   "version": "3.6.7"
  }
 },
 "nbformat": 4,
 "nbformat_minor": 2
}
