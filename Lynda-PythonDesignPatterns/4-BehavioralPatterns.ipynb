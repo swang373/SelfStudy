{
 "cells": [
  {
   "cell_type": "markdown",
   "metadata": {},
   "source": [
    "## 4. Behavioral Patterns"
   ]
  },
  {
   "cell_type": "markdown",
   "metadata": {},
   "source": [
    "### Observer\n",
    "---\n",
    "\n",
    "This pattern establishes a one-to-many relationship between a single subject that needs to be monitored and multiple observer objects that need to be notified when there is a change in the subject. For example, consider the monitoring of the core temperature of a nuclear power plant. Any registered observers need to be notified of changes in the temperature. The solution consists of the following parts:\n",
    "\n",
    "- Subject  \n",
    "  An abstract class with an interface that permits the attaching, detaching, and notifying observer objects.\n",
    "- Concrete Subjects  \n",
    "  Concrete classes that inherit from the abstract subject class.\n",
    "\n",
    "Related patterns are the singleton pattern."
   ]
  },
  {
   "cell_type": "code",
   "execution_count": 2,
   "metadata": {},
   "outputs": [
    {
     "name": "stdout",
     "output_type": "stream",
     "text": [
      "Temperature Viewer: Core 1 has temperature 80\n",
      "Temperature Viewer: Core 1 has temperature 80\n",
      "Temperature Viewer: Core 1 has temperature 90\n",
      "Temperature Viewer: Core 1 has temperature 90\n"
     ]
    }
   ],
   "source": [
    "class Subject(object):\n",
    "    \"\"\"Represents what is being observed.\"\"\"\n",
    "    def __init__(self):\n",
    "        # This is where references to all observers are stored\n",
    "        # Note that this is a one-to-many relationship, where\n",
    "        # one subject is observed by multiple observers\n",
    "        self._observers = []\n",
    "\n",
    "    def attach(self, observer):\n",
    "        # Append an observer if it is not already in the list of observers\n",
    "        if observer not in self._observers:\n",
    "            self._observers.append(observer)\n",
    "\n",
    "    def deatch(self, observer):\n",
    "        # Remove an observer\n",
    "        try:\n",
    "            self._observers.remove(observer)\n",
    "        except ValueError:\n",
    "            pass\n",
    "\n",
    "    def notify(self, modifier=None):\n",
    "        # Notify all attached observers except for the\n",
    "        # observer that is updating the temperature\n",
    "        for observer in self._observers:\n",
    "            if modifier != observer:\n",
    "                # Alert all observers!\n",
    "                observer.update(self)\n",
    "\n",
    "class Core(Subject):\n",
    "    \"\"\"Inherits from the Subject class.\"\"\"\n",
    "    def __init__(self, name=''):\n",
    "        super().__init__()\n",
    "        # Set the name of the core\n",
    "        self._name = name\n",
    "        # Initialize the temperature of the core\n",
    "        self._temp = 0\n",
    "\n",
    "    @property\n",
    "    def temp(self):\n",
    "        # Getter that gets the core temperature\n",
    "        return self._temp\n",
    "\n",
    "    @temp.setter\n",
    "    def temp(self, temp):\n",
    "        # Setter that sets the core temperature\n",
    "        self._temp = temp\n",
    "\n",
    "        # Notify all observers whenever somebody changes the core temperature\n",
    "        self.notify()\n",
    "\n",
    "\n",
    "class TempViewer(object):\n",
    "    def update(self, subject):\n",
    "        # Alert method that is invoked when the notify()\n",
    "        # method of a concrete subject is invoked\n",
    "        print(f'Temperature Viewer: {subject._name} has temperature {subject.temp}')\n",
    "\n",
    "\n",
    "# Create some subjects\n",
    "c1 = Core('Core 1')\n",
    "c2 = Core('Core 2')\n",
    "\n",
    "# Create some observers\n",
    "v1 = TempViewer()\n",
    "v2 = TempViewer()\n",
    "\n",
    "# Attach the observers to the first core\n",
    "c1.attach(v1)\n",
    "c1.attach(v2)\n",
    "\n",
    "# Change the temperature of the first core\n",
    "c1.temp = 80\n",
    "c1.temp = 90"
   ]
  },
  {
   "cell_type": "code",
   "execution_count": null,
   "metadata": {},
   "outputs": [],
   "source": []
  }
 ],
 "metadata": {
  "kernelspec": {
   "display_name": "Python 3",
   "language": "python",
   "name": "python3"
  },
  "language_info": {
   "codemirror_mode": {
    "name": "ipython",
    "version": 3
   },
   "file_extension": ".py",
   "mimetype": "text/x-python",
   "name": "python",
   "nbconvert_exporter": "python",
   "pygments_lexer": "ipython3",
   "version": "3.6.7"
  }
 },
 "nbformat": 4,
 "nbformat_minor": 2
}
