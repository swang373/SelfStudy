{
 "cells": [
  {
   "cell_type": "markdown",
   "metadata": {},
   "source": [
    "## 2. Creational Patterns"
   ]
  },
  {
   "cell_type": "markdown",
   "metadata": {},
   "source": [
    "### Factory\n",
    "---\n",
    "\n",
    "A factory encapsulates object creation, being an object that specializes in creating other objects. It addresses the problem of uncertainties in the types of objects and decisions made at runtime regarding what classes to use.\n",
    "\n",
    "For example, consider a pet shop which only has dogs. The Factory pattern enables the shop to add cats and other animal classes easily."
   ]
  },
  {
   "cell_type": "code",
   "execution_count": 1,
   "metadata": {},
   "outputs": [
    {
     "name": "stdout",
     "output_type": "stream",
     "text": [
      "Woof!\n",
      "Meow!\n"
     ]
    }
   ],
   "source": [
    "class Dog(object):\n",
    "    \"\"\"A simple dog class.\"\"\"\n",
    "    def __init__(self, name):\n",
    "        self._name = name\n",
    "        \n",
    "    def speak(self):\n",
    "        return 'Woof!'\n",
    "\n",
    "\n",
    "class Cat(object):\n",
    "    \"\"\"A simple cat class.\"\"\"\n",
    "    def __init__(self, name):\n",
    "        self._name = name\n",
    "        \n",
    "    def speak(self):\n",
    "        return 'Meow!'\n",
    "\n",
    "\n",
    "def get_pet(pet='dog'):\n",
    "    \"\"\"The factory function.\"\"\"\n",
    "    pets = dict(dog=Dog('Hope'), cat=Cat('Peace'))\n",
    "    return pets[pet]\n",
    "\n",
    "\n",
    "d = get_pet('dog')\n",
    "print(d.speak())\n",
    "\n",
    "c = get_pet('cat')\n",
    "print(c.speak())"
   ]
  },
  {
   "cell_type": "markdown",
   "metadata": {},
   "source": [
    "### Abstract Factory\n",
    "---\n",
    "\n",
    "An abstract factory is used when a client expects to receive a family of related objects that aren't known until runtime. The abstract factory pattern is related to the factory pattern, and the concrete factories used by the abstract factory are typically singletons.\n",
    "\n",
    "For example, consider a pet factory that has dog and cat factories and the pet factory needs to return the correct type of pet food. The components of the solution are:\n",
    "- Abstract factory: pet factory\n",
    "- Concrete factories: dog factory, cat factory\n",
    "- Abstract product\n",
    "- Concrete product: dog and dog food, cat and cat food"
   ]
  },
  {
   "cell_type": "code",
   "execution_count": 2,
   "metadata": {},
   "outputs": [
    {
     "name": "stdout",
     "output_type": "stream",
     "text": [
      "Our pet is \"Dog!\"\n",
      "Our pet says hello by \"Woof!\"\n",
      "Its food is \"Dog Food!\"\n"
     ]
    }
   ],
   "source": [
    "class Dog(object):\n",
    "    \"\"\"One of the objects to be returned.\"\"\"\n",
    "\n",
    "    def speak(self):\n",
    "        return 'Woof!'\n",
    "    \n",
    "    def __str__(self):\n",
    "        return 'Dog'\n",
    "\n",
    "\n",
    "class DogFactory(object):\n",
    "    \"\"\"Concrete factory.\"\"\"\n",
    "\n",
    "    def get_pet(self):\n",
    "        \"\"\"Returns a dog object.\"\"\"\n",
    "        return Dog()\n",
    "        \n",
    "    def get_food(self):\n",
    "        \"\"\"Returns a Dog Food object.\"\"\"\n",
    "        return 'Dog Food!'\n",
    "\n",
    "\n",
    "class PetStore(object):\n",
    "    \"\"\"PetStore houses the abstract factory.\"\"\"\n",
    "    def __init__(self, pet_factory=None):\n",
    "        \"\"\"pet_factory is the abstract factory\"\"\"\n",
    "        self._pet_factory = pet_factory\n",
    "\n",
    "    def show_pet(self):\n",
    "        \"\"\"Utility method to display the details of the objects returned by the DogFactory.\"\"\"\n",
    "        pet = self._pet_factory.get_pet()\n",
    "        pet_food = self._pet_factory.get_food()\n",
    "        print(f'Our pet is \"{pet}!\"')\n",
    "        print(f'Our pet says hello by \"{pet.speak()}\"')\n",
    "        print(f'Its food is \"{pet_food}\"')\n",
    "\n",
    "\n",
    "# Create a concrete factory\n",
    "factory = DogFactory()\n",
    "\n",
    "# Create a pet store housing the abstract factory\n",
    "shop = PetStore(factory)\n",
    "\n",
    "# Invoke the utility method to show the details of our pet\n",
    "shop.show_pet()"
   ]
  },
  {
   "cell_type": "markdown",
   "metadata": {},
   "source": [
    "### Singleton\n",
    "---\n",
    "\n",
    "An object-oriented way of providing a global variable, singletons are used when only a single object is allowed to be instantiated from a class. Use cases include caches shared by multiple objects and modules in Python. The following example of a singleton follows the Borg design pattern."
   ]
  },
  {
   "cell_type": "code",
   "execution_count": 3,
   "metadata": {},
   "outputs": [
    {
     "name": "stdout",
     "output_type": "stream",
     "text": [
      "{'HTTP': 'Hyper Text Transfer Protocol'}\n",
      "{'HTTP': 'Hyper Text Transfer Protocol', 'SNMP': 'Simple Network Management Protocol'}\n"
     ]
    }
   ],
   "source": [
    "class Borg(object):\n",
    "    \"\"\"Borg class making class attributes global.\"\"\"\n",
    "    # Attribute dictionary\n",
    "    _shared_state = {}\n",
    "\n",
    "    def __init__(self):\n",
    "        # Have each instance share the same attribute dictionary\n",
    "        self.__dict__ = self._shared_state\n",
    "\n",
    "\n",
    "class Singleton(Borg):\n",
    "    \"\"\"Inherits from the Borg class.\n",
    "\n",
    "    This class now shares all its attributes among its various instances.\n",
    "    This essentially makes the singleton objects an object-oriented global variable.\n",
    "    \"\"\"\n",
    "    def __init__(self, **kwargs):\n",
    "        super().__init__()\n",
    "        # Update the attribute dictionary by inserting a new key-value pair\n",
    "        self._shared_state.update(kwargs)\n",
    "\n",
    "    def __str__(self):\n",
    "        # Returns the attribute dictionary for printing\n",
    "        return str(self._shared_state)\n",
    "\n",
    "\n",
    "# Create a singleton object and add our first acronym\n",
    "x = Singleton(HTTP='Hyper Text Transfer Protocol')\n",
    "\n",
    "# Print the object\n",
    "print(x)\n",
    "\n",
    "# Create another singleton object that refers to the\n",
    "# same attribute dictionary and add another acronym\n",
    "y = Singleton(SNMP='Simple Network Management Protocol')\n",
    "\n",
    "# Print the object\n",
    "print(y)"
   ]
  },
  {
   "cell_type": "markdown",
   "metadata": {},
   "source": [
    "### Builder\n",
    "---\n",
    "\n",
    "A solution to the anti-pattern known as a telescoping constructor, which is when a complex object is built using an excessive number of constructors. It is a divide-and-conquer strategy for reducing the complexity of building a complex boject. Unlike the factory and abstract factory patterns, it does not rely on polymorphism. A builder decomposes the construction of a complex object into four different roles:\n",
    "\n",
    "- Director  \n",
    "  In charge of actually building a product using the builder object.\n",
    "- Abstract Builder  \n",
    "  Provides the necessary interfaces required in building the object.\n",
    "- Concrete Builder  \n",
    "  Inherits from the abstract builder class and implements the details of the interfaces of the builder class for a specific type of product.\n",
    "- Product  \n",
    "  The object being built."
   ]
  },
  {
   "cell_type": "code",
   "execution_count": 4,
   "metadata": {},
   "outputs": [
    {
     "name": "stdout",
     "output_type": "stream",
     "text": [
      "SkyLark | Regular tires | Turbo engine\n"
     ]
    }
   ],
   "source": [
    "class Director(object):\n",
    "    \"\"\"The director class.\"\"\"\n",
    "    def __init__(self, builder):\n",
    "        self._builder = builder\n",
    "\n",
    "    def construct_car(self):\n",
    "        self._builder.create_new_car()\n",
    "        self._builder.add_model()\n",
    "        self._builder.add_tires()\n",
    "        self._builder.add_engine()\n",
    "\n",
    "    def get_car(self):\n",
    "        return self._builder.car\n",
    "\n",
    "\n",
    "class Builder(object):\n",
    "    \"\"\"The abstract builder class.\"\"\"\n",
    "    def __init__(self):\n",
    "        self.car = None\n",
    "\n",
    "    def create_new_car(self):\n",
    "        self.car = Car()\n",
    "\n",
    "\n",
    "class SkyLarkBuilder(Builder):\n",
    "    \"\"\"A concrete builder class that provides\n",
    "    the parts and the tools to work on the parts.\n",
    "    \"\"\"\n",
    "\n",
    "    def add_model(self):\n",
    "        self.car.model = 'SkyLark'\n",
    "\n",
    "    def add_tires(self):\n",
    "        self.car.tires = 'Regular tires'\n",
    "\n",
    "    def add_engine(self):\n",
    "        self.car.engine = 'Turbo engine'\n",
    "\n",
    "\n",
    "class Car(object):\n",
    "    \"\"\"The product class.\"\"\"\n",
    "    def __init__(self):\n",
    "        self.model = None\n",
    "        self.tires = None\n",
    "        self.engine = None\n",
    "\n",
    "    def __str__(self):\n",
    "        return f'{self.model} | {self.tires} | {self.engine}'\n",
    "\n",
    "\n",
    "# The process of constructing a car starts with instantiating a concrete builder\n",
    "builder = SkyLarkBuilder()\n",
    "\n",
    "# The director takes the concrete builder and uses it to construct a car\n",
    "director = Director(builder)\n",
    "\n",
    "# The director can now construct a car while the builder handles the details\n",
    "director.construct_car()\n",
    "\n",
    "# The director can get a reference to the car object that was constructed\n",
    "car = director.get_car()\n",
    "\n",
    "# Print the car object to inspect what was constructed\n",
    "print(car)"
   ]
  },
  {
   "cell_type": "markdown",
   "metadata": {},
   "source": [
    "### Prototype\n",
    "---\n",
    "\n",
    "A prototype clones objects according to a prototypical instance. Because individually creating many identical objects can be expensive, cloning may be a good alternative approach. For example, cars of the same model and color can be easily mass produced by cloning. The solution first creates a prototypical instance and then clones it as replicas are needed. A related pattern is the abstract factory."
   ]
  },
  {
   "cell_type": "code",
   "execution_count": 5,
   "metadata": {},
   "outputs": [
    {
     "name": "stdout",
     "output_type": "stream",
     "text": [
      "SkyLark | Red | Ex\n"
     ]
    }
   ],
   "source": [
    "import copy\n",
    "\n",
    "\n",
    "class Prototype(object):\n",
    "    def __init__(self):\n",
    "        self._objects = {}\n",
    "\n",
    "    def register_object(self, name, obj):\n",
    "        \"\"\"Register an object.\"\"\"\n",
    "        self._objects[name] = obj\n",
    "\n",
    "    def unregister_object(self, name):\n",
    "        \"\"\"Unregister an object.\"\"\"\n",
    "        del self._objects[name]\n",
    "\n",
    "    def clone(self, name, **attr):\n",
    "        \"\"\"Clone a registered object and update its attributes.\"\"\"\n",
    "        obj = copy.deepcopy(self._objects.get(name))\n",
    "        obj.__dict__.update(attr)\n",
    "        return obj\n",
    "\n",
    "\n",
    "class Car(object):\n",
    "\n",
    "    def __init__(self):\n",
    "        self.name = 'SkyLark'\n",
    "        self.color = 'Red'\n",
    "        self.options = 'Ex'\n",
    "\n",
    "    def __str__(self):\n",
    "        return f'{self.name} | {self.color} | {self.options}'\n",
    "\n",
    "\n",
    "# First create an instance of the prototypical class to be cloned\n",
    "c = Car()\n",
    "\n",
    "# Then create a prototype object out of the prototypical class\n",
    "prototype = Prototype()\n",
    "\n",
    "# Register the prototypical class\n",
    "prototype.register_object('SkyLark', c)\n",
    "\n",
    "# Create a clone of the original object and inspect it\n",
    "c1 = prototype.clone('SkyLark')\n",
    "print(c1)"
   ]
  }
 ],
 "metadata": {
  "kernelspec": {
   "display_name": "Python 3",
   "language": "python",
   "name": "python3"
  },
  "language_info": {
   "codemirror_mode": {
    "name": "ipython",
    "version": 3
   },
   "file_extension": ".py",
   "mimetype": "text/x-python",
   "name": "python",
   "nbconvert_exporter": "python",
   "pygments_lexer": "ipython3",
   "version": "3.6.7"
  }
 },
 "nbformat": 4,
 "nbformat_minor": 2
}
