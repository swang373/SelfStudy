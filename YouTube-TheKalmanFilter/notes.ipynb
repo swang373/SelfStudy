{
 "cells": [
  {
   "cell_type": "markdown",
   "metadata": {},
   "source": [
    "# Special Topics - The Kalman Filter\n",
    "#### A Lecture Series by Michel van Biezen"
   ]
  },
  {
   "cell_type": "markdown",
   "metadata": {},
   "source": [
    "$$\n",
    "% Notation Macros\n",
    "\\newcommand{\\KalmanGain}{\\mathrm{KG}}\n",
    "\\newcommand{\\ErrorInEstimate}{E_{\\mathrm{EST}}}\n",
    "\\newcommand{\\ErrorInCurrentEstimate}{E_{\\mathrm{EST}_{t}}}\n",
    "\\newcommand{\\ErrorInPreviousEstimate}{E_{\\mathrm{EST}_{t-1}}}\n",
    "\\newcommand{\\ErrorInMeasurement}{E_{\\mathrm{MEA}}}\n",
    "\\newcommand{\\CurrentEstimate}{\\mathrm{EST}_{t}}\n",
    "\\newcommand{\\PreviousEstimate}{\\mathrm{EST}_{t-1}}\n",
    "\\newcommand{\\Measurement}{\\mathrm{MEA}}\n",
    "$$"
   ]
  },
  {
   "cell_type": "markdown",
   "metadata": {},
   "source": [
    "## 1. What is a Kalman Filter?\n",
    "---\n",
    "\n",
    "An iterative algorithm that uses a set of equations and consecutive data inputs to quickly estimate the true value of a property of the object being measured when the measured values contain unpredicted or random error, uncertainty, or variation.\n",
    "\n",
    "## 2. Flowchart of a Simple Example\n",
    "---\n",
    "\n",
    "This simple example is for a single measured value.\n",
    "\n",
    "<img src=\"SimpleExampleFlowchart.png\" alt=\"A flowchart for a simple Kalman filter example.\" title=\"Simple Example Flowchart\" width=\"600\">"
   ]
  },
  {
   "cell_type": "markdown",
   "metadata": {},
   "source": [
    "## 3. The Kalman Gain: A Closer Look\n",
    "---\n",
    "\n",
    "The Kalman gain ($\\KalmanGain$) determines the weight with which new measurements affect the current estimate. It is calculated as\n",
    "\n",
    "$$\\KalmanGain = \\frac{\\ErrorInEstimate}{\\ErrorInEstimate + \\ErrorInMeasurement},$$\n",
    "\n",
    "where $\\ErrorInEstimate$ is the error in estimate and $\\ErrorInMeasurement$ is the error in data or measurement, and so $0 \\leq \\KalmanGain \\leq 1$.\n",
    "\n",
    "The current estimate $\\CurrentEstimate$ is then calculated as\n",
    "\n",
    "$$\\CurrentEstimate = \\PreviousEstimate + \\KalmanGain \\left( \\Measurement - \\PreviousEstimate \\right),$$\n",
    "\n",
    "where $\\PreviousEstimate$ is the previous estimate and $\\Measurement$ is the measurement. Based on this update rule, a large gain ($\\KalmanGain \\approx 1$) is used when the measurements are accurate and the estimates are unstable, whereas a small gain ($\\KalmanGain \\approx 0$) is used when the measurements are inaccurate and the estimates are stable or have small error. Typically, the Kalman gain becomes smaller over time as the current estimate converges to the true value."
   ]
  },
  {
   "cell_type": "markdown",
   "metadata": {},
   "source": [
    "### 4. The 3 Calculations\n",
    "---\n",
    "\n",
    "Kalman filtering is performed using three main equations which calculate the new Kalman gain, the new estimate, and the new error in estimate, respectively. For the first two equations, please refer to the previous section. The final equation calculates the new error in estimate $\\ErrorInCurrentEstimate$ as\n",
    "\n",
    "$$\\ErrorInCurrentEstimate = \\frac{\\ErrorInMeasurement \\ErrorInPreviousEstimate}{\\ErrorInMeasurement + \\ErrorInPreviousEstimate},$$\n",
    "\n",
    "where $\\ErrorInPreviousEstimate$ is the error in previous estimate. The new error in estimate may also be expressed as\n",
    "\n",
    "$$\\ErrorInCurrentEstimate = \\left(1 - \\KalmanGain \\right) \\ErrorInPreviousEstimate,$$\n",
    "\n",
    "which follows by differentiating the equation for the current estimate with respect to the previous estimate, i.e. $\\frac{\\partial \\CurrentEstimate}{\\partial \\PreviousEstimate}$. In the context of matrices, the scalar value 1 in the above equation becomes the identity matrix $\\mathbf{I}$. In this form, it can be better appreciated that the factor multiplying the error in previous estimate is a sort of \"inverse\" of the Kalman gain. For large values of Kalman gain, when the error in estimate is large, the error in current estimate drops quickly because the error in previous estimate is multiplied by a small number. For small values of Kalman gain, when the error in measurement is large, the error in current estimate still drops but more slowly. In either case, the error in current estimate will *always* be less than the error in previous estimate."
   ]
  }
 ],
 "metadata": {
  "kernelspec": {
   "display_name": "Python 3",
   "language": "python",
   "name": "python3"
  },
  "language_info": {
   "codemirror_mode": {
    "name": "ipython",
    "version": 3
   },
   "file_extension": ".py",
   "mimetype": "text/x-python",
   "name": "python",
   "nbconvert_exporter": "python",
   "pygments_lexer": "ipython3",
   "version": "3.6.7"
  }
 },
 "nbformat": 4,
 "nbformat_minor": 2
}
