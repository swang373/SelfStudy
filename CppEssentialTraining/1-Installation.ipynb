{
 "cells": [
  {
   "cell_type": "markdown",
   "metadata": {},
   "source": [
    "## 1. Installation\n",
    "---"
   ]
  },
  {
   "cell_type": "markdown",
   "metadata": {},
   "source": [
    "In the course, Bill Weinman suggests Xcode and Visual Studio as interactive development environments (IDEs). However, I wanted to be a little bit extra and try using the C++ kernel for Jupyter notebooks for the course because it allows me to mix course notes with interactive code snippets and their output.\n",
    "\n",
    "The installation instructions for my working environment consisted of setting up a conda environment on my Macbook. Once you've installed either a [conda](https://docs.conda.io/projects/conda/en/latest/user-guide/install/index.html) or [miniconda](https://docs.conda.io/en/latest/miniconda.html) distribution, you can do the same as follows:\n",
    "\n",
    "```bash\n",
    "# Create a conda environment, I called mine \"cling\"\n",
    "conda create -n cling\n",
    "\n",
    "# Activate the \"cling\" environment\n",
    "# This will have to be done every time to use the notebooks\n",
    "conda activate cling\n",
    "\n",
    "# Install Jupyter and the xeus-cling interpreter that provides\n",
    "# the C++ kernel within the \"cling\" environment\n",
    "conda install jupyter\n",
    "conda install xeus-cling -c conda-forge\n",
    "\n",
    "# Launch Jupyter to start working on notebooks\n",
    "jupyter notebook\n",
    "```\n",
    "\n",
    "When you're about to create a new notebook, you should be able to choose from C++11, C++14, and C++17 in the drop-down list of available kernels."
   ]
  },
  {
   "cell_type": "markdown",
   "metadata": {},
   "source": [
    "### Testing the Installation\n",
    "---\n",
    "\n",
    "I'll be using the C++14 kernel for my course notebooks. If the following snippets run properly, then the environment has been properly setup."
   ]
  },
  {
   "cell_type": "code",
   "execution_count": 1,
   "metadata": {},
   "outputs": [],
   "source": [
    "// Use the std namespace. I've found that this has\n",
    "// to be run in its own cell or cling might throw errors.\n",
    "using namespace std;"
   ]
  },
  {
   "cell_type": "code",
   "execution_count": 2,
   "metadata": {},
   "outputs": [
    {
     "data": {
      "text/plain": [
       "0"
      ]
     },
     "execution_count": 2,
     "metadata": {},
     "output_type": "execute_result"
    }
   ],
   "source": [
    "#include <cstdio>\n",
    "\n",
    "int test1_puts() {\n",
    "    puts(\"Hello, World!\");\n",
    "    return 0;\n",
    "}\n",
    "\n",
    "test1_puts()"
   ]
  },
  {
   "cell_type": "markdown",
   "metadata": {},
   "source": [
    "If you don't see \"Hello, World!\" in the cell output, don't freak out! Check your terminal, because for me the output was printed in the terminal and not in the notebook. It may be that `std::puts` sends output to some output stream that isn't redirected into the notebook, but for sure `std::cout` works as shown by the following cell, so we'll stick with that where possible to capture cell output. You may have also noticed that we don't add a semi-colon to the function call. This is because appending a semi-colon to the function call suppresses cell output within Jupyter notebooks."
   ]
  },
  {
   "cell_type": "code",
   "execution_count": 3,
   "metadata": {},
   "outputs": [
    {
     "name": "stdout",
     "output_type": "stream",
     "text": [
      "Hello, World!"
     ]
    },
    {
     "data": {
      "text/plain": [
       "0"
      ]
     },
     "execution_count": 3,
     "metadata": {},
     "output_type": "execute_result"
    }
   ],
   "source": [
    "#include <iostream>\n",
    "\n",
    "int test1_cout() {\n",
    "    cout << \"Hello, World!\";\n",
    "    return 0;\n",
    "}\n",
    "\n",
    "test1_cout()"
   ]
  },
  {
   "cell_type": "code",
   "execution_count": 4,
   "metadata": {},
   "outputs": [
    {
     "data": {
      "text/plain": [
       "0"
      ]
     },
     "execution_count": 4,
     "metadata": {},
     "output_type": "execute_result"
    }
   ],
   "source": [
    "#include <cstdio>\n",
    "\n",
    "int test2_printf() {\n",
    "    int ia[] = { 1, 2, 3, 4, 5 };\n",
    "    for (auto i : ia) {\n",
    "        printf(\"i is %d\\n\", i);\n",
    "    }\n",
    "    return 0;\n",
    "}\n",
    "\n",
    "test2_printf()"
   ]
  },
  {
   "cell_type": "markdown",
   "metadata": {},
   "source": [
    "The output of `std::printf` also appears in the terminal for me, so again I'll switch to `std:cout`."
   ]
  },
  {
   "cell_type": "code",
   "execution_count": 5,
   "metadata": {},
   "outputs": [
    {
     "name": "stdout",
     "output_type": "stream",
     "text": [
      "i is 1\n",
      "i is 2\n",
      "i is 3\n",
      "i is 4\n",
      "i is 5\n"
     ]
    },
    {
     "data": {
      "text/plain": [
       "0"
      ]
     },
     "execution_count": 5,
     "metadata": {},
     "output_type": "execute_result"
    }
   ],
   "source": [
    "int test2_cout() {\n",
    "    int ia[] = { 1, 2, 3, 4, 5 };\n",
    "    for (auto i : ia) {\n",
    "        cout << \"i is \" << i << \"\\n\";\n",
    "    }\n",
    "    return 0;\n",
    "}\n",
    "\n",
    "test2_cout()"
   ]
  }
 ],
 "metadata": {
  "kernelspec": {
   "display_name": "C++14",
   "language": "C++14",
   "name": "xcpp14"
  },
  "language_info": {
   "codemirror_mode": "text/x-c++src",
   "file_extension": ".cpp",
   "mimetype": "text/x-c++src",
   "name": "c++",
   "version": "-std=c++14"
  }
 },
 "nbformat": 4,
 "nbformat_minor": 2
}
